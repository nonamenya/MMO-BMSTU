{
 "cells": [
  {
   "cell_type": "code",
   "execution_count": 1,
   "id": "c7c96df0",
   "metadata": {},
   "outputs": [
    {
     "name": "stdout",
     "output_type": "stream",
     "text": [
      "Collecting surprise\n",
      "  Using cached surprise-0.1-py2.py3-none-any.whl (1.8 kB)\n",
      "Collecting scikit-surprise\n",
      "  Using cached scikit-surprise-1.1.1.tar.gz (11.8 MB)\n",
      "Requirement already satisfied: joblib>=0.11 in c:\\users\\nonam\\anaconda4\\lib\\site-packages (from scikit-surprise->surprise) (1.0.1)\n",
      "Requirement already satisfied: numpy>=1.11.2 in c:\\users\\nonam\\anaconda4\\lib\\site-packages (from scikit-surprise->surprise) (1.20.2)\n",
      "Requirement already satisfied: scipy>=1.0.0 in c:\\users\\nonam\\anaconda4\\lib\\site-packages (from scikit-surprise->surprise) (1.6.2)\n",
      "Requirement already satisfied: six>=1.10.0 in c:\\users\\nonam\\anaconda4\\lib\\site-packages (from scikit-surprise->surprise) (1.16.0)\n",
      "Building wheels for collected packages: scikit-surprise\n",
      "  Building wheel for scikit-surprise (setup.py): started\n",
      "  Building wheel for scikit-surprise (setup.py): finished with status 'done'\n",
      "  Created wheel for scikit-surprise: filename=scikit_surprise-1.1.1-cp38-cp38-win_amd64.whl size=714662 sha256=be9625cb2f43d7604fd066377d84f6a598a6d32e8a9b5964992c91a6e141b0b6\n",
      "  Stored in directory: c:\\users\\nonam\\appdata\\local\\pip\\cache\\wheels\\20\\91\\57\\2965d4cff1b8ac7ed1b6fa25741882af3974b54a31759e10b6\n",
      "Successfully built scikit-surprise\n",
      "Installing collected packages: scikit-surprise, surprise\n",
      "Successfully installed scikit-surprise-1.1.1 surprise-0.1\n"
     ]
    }
   ],
   "source": [
    "\n",
    "\n",
    "!pip install surprise\n",
    "\n"
   ]
  },
  {
   "cell_type": "code",
   "execution_count": 4,
   "id": "e84b5528",
   "metadata": {},
   "outputs": [
    {
     "name": "stdout",
     "output_type": "stream",
     "text": [
      "Collecting matplotlib_venn\n",
      "  Downloading matplotlib-venn-0.11.6.tar.gz (29 kB)\n",
      "Requirement already satisfied: matplotlib in c:\\users\\nonam\\anaconda4\\lib\\site-packages (from matplotlib_venn) (3.3.4)\n",
      "Requirement already satisfied: numpy in c:\\users\\nonam\\anaconda4\\lib\\site-packages (from matplotlib_venn) (1.20.2)\n",
      "Requirement already satisfied: scipy in c:\\users\\nonam\\anaconda4\\lib\\site-packages (from matplotlib_venn) (1.6.2)\n",
      "Requirement already satisfied: python-dateutil>=2.1 in c:\\users\\nonam\\anaconda4\\lib\\site-packages (from matplotlib->matplotlib_venn) (2.8.1)\n",
      "Requirement already satisfied: pyparsing!=2.0.4,!=2.1.2,!=2.1.6,>=2.0.3 in c:\\users\\nonam\\anaconda4\\lib\\site-packages (from matplotlib->matplotlib_venn) (2.4.7)\n",
      "Requirement already satisfied: kiwisolver>=1.0.1 in c:\\users\\nonam\\anaconda4\\lib\\site-packages (from matplotlib->matplotlib_venn) (1.3.1)\n",
      "Requirement already satisfied: pillow>=6.2.0 in c:\\users\\nonam\\anaconda4\\lib\\site-packages (from matplotlib->matplotlib_venn) (8.2.0)\n",
      "Requirement already satisfied: cycler>=0.10 in c:\\users\\nonam\\anaconda4\\lib\\site-packages (from matplotlib->matplotlib_venn) (0.10.0)\n",
      "Requirement already satisfied: six in c:\\users\\nonam\\anaconda4\\lib\\site-packages (from cycler>=0.10->matplotlib->matplotlib_venn) (1.16.0)\n",
      "Building wheels for collected packages: matplotlib-venn\n",
      "  Building wheel for matplotlib-venn (setup.py): started\n",
      "  Building wheel for matplotlib-venn (setup.py): finished with status 'done'\n",
      "  Created wheel for matplotlib-venn: filename=matplotlib_venn-0.11.6-py3-none-any.whl size=32062 sha256=194f0d9deb2b479633e2bfbca9c1d392e680a84a7908fabe251d8553025cb827\n",
      "  Stored in directory: c:\\users\\nonam\\appdata\\local\\pip\\cache\\wheels\\82\\e4\\64\\dd790d424818bc2f59c11471a1eee5dc8cfcd3f8ee8c4812fa\n",
      "Successfully built matplotlib-venn\n",
      "Installing collected packages: matplotlib-venn\n",
      "Successfully installed matplotlib-venn-0.11.6\n"
     ]
    }
   ],
   "source": [
    "!pip install matplotlib_venn"
   ]
  },
  {
   "cell_type": "code",
   "execution_count": 6,
   "id": "5e22cbd6",
   "metadata": {},
   "outputs": [],
   "source": [
    "path = \"/Users/NoNam/OneDrive/Documents/MMO\"\n"
   ]
  },
  {
   "cell_type": "code",
   "execution_count": 5,
   "id": "ed9cbcc1",
   "metadata": {},
   "outputs": [],
   "source": [
    "import numpy as np\n",
    "import pandas as pd\n",
    "from typing import Dict, Tuple\n",
    "from scipy import stats\n",
    "from sklearn.feature_extraction.text import CountVectorizer, TfidfVectorizer\n",
    "from sklearn.neighbors import KNeighborsRegressor, KNeighborsClassifier\n",
    "from sklearn.model_selection import GridSearchCV, RandomizedSearchCV\n",
    "from sklearn.metrics import confusion_matrix\n",
    "from sklearn.metrics.pairwise import cosine_similarity, euclidean_distances, manhattan_distances\n",
    "from surprise import SVD, Dataset, Reader\n",
    "import seaborn as sns\n",
    "import matplotlib.pyplot as plt\n",
    "from matplotlib_venn import venn2\n",
    "%matplotlib inline \n",
    "sns.set(style=\"ticks\")"
   ]
  },
  {
   "cell_type": "code",
   "execution_count": 7,
   "id": "6754dd84",
   "metadata": {},
   "outputs": [],
   "source": [
    "data = pd.read_csv(path + '/laptop_recomm.csv', sep=\",\")"
   ]
  },
  {
   "cell_type": "code",
   "execution_count": 8,
   "id": "5c17a816",
   "metadata": {},
   "outputs": [
    {
     "data": {
      "text/plain": [
       "(205, 9)"
      ]
     },
     "execution_count": 8,
     "metadata": {},
     "output_type": "execute_result"
    }
   ],
   "source": [
    "data.shape"
   ]
  },
  {
   "cell_type": "code",
   "execution_count": 9,
   "id": "7e012f71",
   "metadata": {},
   "outputs": [
    {
     "data": {
      "text/html": [
       "<div>\n",
       "<style scoped>\n",
       "    .dataframe tbody tr th:only-of-type {\n",
       "        vertical-align: middle;\n",
       "    }\n",
       "\n",
       "    .dataframe tbody tr th {\n",
       "        vertical-align: top;\n",
       "    }\n",
       "\n",
       "    .dataframe thead th {\n",
       "        text-align: right;\n",
       "    }\n",
       "</style>\n",
       "<table border=\"1\" class=\"dataframe\">\n",
       "  <thead>\n",
       "    <tr style=\"text-align: right;\">\n",
       "      <th></th>\n",
       "      <th>brand</th>\n",
       "      <th>laptop_name</th>\n",
       "      <th>display_size</th>\n",
       "      <th>processor_type</th>\n",
       "      <th>graphics_card</th>\n",
       "      <th>disk_space</th>\n",
       "      <th>discount_price</th>\n",
       "      <th>old_price</th>\n",
       "      <th>ratings_5max</th>\n",
       "    </tr>\n",
       "  </thead>\n",
       "  <tbody>\n",
       "    <tr>\n",
       "      <th>0</th>\n",
       "      <td>HP</td>\n",
       "      <td>Notebook 14-df0008nx</td>\n",
       "      <td>14.0</td>\n",
       "      <td>Intel Celeron N4000</td>\n",
       "      <td>Intel HD Graphics 600</td>\n",
       "      <td>64 GB (eMMC)</td>\n",
       "      <td>1259.0</td>\n",
       "      <td>1259.0</td>\n",
       "      <td>0 / 5</td>\n",
       "    </tr>\n",
       "    <tr>\n",
       "      <th>1</th>\n",
       "      <td>Lenovo</td>\n",
       "      <td>IdeaPad 330S-14IKB</td>\n",
       "      <td>14.0</td>\n",
       "      <td>Intel Core i5-8250U</td>\n",
       "      <td>Intel UHD Graphics 620</td>\n",
       "      <td>1 TB HDD</td>\n",
       "      <td>1849.0</td>\n",
       "      <td>2099.0</td>\n",
       "      <td>3.3 / 5</td>\n",
       "    </tr>\n",
       "    <tr>\n",
       "      <th>2</th>\n",
       "      <td>Huawei</td>\n",
       "      <td>MateBook D Volta</td>\n",
       "      <td>14.0</td>\n",
       "      <td>Intel Core i5-8250U</td>\n",
       "      <td>NVIDIA GeForce MX150 (2 GB)</td>\n",
       "      <td>256 GB SSD</td>\n",
       "      <td>2999.0</td>\n",
       "      <td>3799.0</td>\n",
       "      <td>0 / 5</td>\n",
       "    </tr>\n",
       "    <tr>\n",
       "      <th>3</th>\n",
       "      <td>Dell</td>\n",
       "      <td>Inspiron 15 3567</td>\n",
       "      <td>15.6</td>\n",
       "      <td>Intel Core i3-7020U</td>\n",
       "      <td>Intel HD Graphics 620</td>\n",
       "      <td>1 TB HDD</td>\n",
       "      <td>1849.0</td>\n",
       "      <td>1849.0</td>\n",
       "      <td>0 / 5</td>\n",
       "    </tr>\n",
       "    <tr>\n",
       "      <th>4</th>\n",
       "      <td>Asus</td>\n",
       "      <td>VivoBook 15 X510UR</td>\n",
       "      <td>15.6</td>\n",
       "      <td>Intel Core i7-8550U</td>\n",
       "      <td>NVIDIA GeForce 930MX (2 GB)</td>\n",
       "      <td>1 TB HDD</td>\n",
       "      <td>2499.0</td>\n",
       "      <td>3149.0</td>\n",
       "      <td>0 / 5</td>\n",
       "    </tr>\n",
       "  </tbody>\n",
       "</table>\n",
       "</div>"
      ],
      "text/plain": [
       "    brand           laptop_name  display_size        processor_type  \\\n",
       "0      HP  Notebook 14-df0008nx          14.0   Intel Celeron N4000   \n",
       "1  Lenovo    IdeaPad 330S-14IKB          14.0   Intel Core i5-8250U   \n",
       "2  Huawei      MateBook D Volta          14.0   Intel Core i5-8250U   \n",
       "3    Dell      Inspiron 15 3567          15.6   Intel Core i3-7020U   \n",
       "4    Asus    VivoBook 15 X510UR          15.6   Intel Core i7-8550U   \n",
       "\n",
       "                  graphics_card     disk_space  discount_price  old_price  \\\n",
       "0         Intel HD Graphics 600   64 GB (eMMC)          1259.0     1259.0   \n",
       "1        Intel UHD Graphics 620       1 TB HDD          1849.0     2099.0   \n",
       "2   NVIDIA GeForce MX150 (2 GB)     256 GB SSD          2999.0     3799.0   \n",
       "3         Intel HD Graphics 620       1 TB HDD          1849.0     1849.0   \n",
       "4   NVIDIA GeForce 930MX (2 GB)       1 TB HDD          2499.0     3149.0   \n",
       "\n",
       "  ratings_5max  \n",
       "0        0 / 5  \n",
       "1      3.3 / 5  \n",
       "2        0 / 5  \n",
       "3        0 / 5  \n",
       "4        0 / 5  "
      ]
     },
     "execution_count": 9,
     "metadata": {},
     "output_type": "execute_result"
    }
   ],
   "source": [
    "data.head()"
   ]
  },
  {
   "cell_type": "code",
   "execution_count": 10,
   "id": "32b8adbe",
   "metadata": {},
   "outputs": [
    {
     "data": {
      "text/plain": [
       "['laptop_name']"
      ]
     },
     "execution_count": 10,
     "metadata": {},
     "output_type": "execute_result"
    }
   ],
   "source": [
    "# Колонки с пропусками\n",
    "hcols_with_na = [c for c in data.columns if data[c].isnull().sum() > 0]\n",
    "hcols_with_na"
   ]
  },
  {
   "cell_type": "code",
   "execution_count": 11,
   "id": "ba347573",
   "metadata": {},
   "outputs": [],
   "source": [
    "# У бренда HP отсутствует laptop_name\n",
    "df = data[data['laptop_name'].notnull()]\n",
    "df = df[~df['laptop_name'].str.isspace()]"
   ]
  },
  {
   "cell_type": "code",
   "execution_count": 12,
   "id": "a5e4601f",
   "metadata": {},
   "outputs": [
    {
     "data": {
      "text/plain": [
       "array(['HP', 'Lenovo', 'Huawei', 'Dell', 'Asus'], dtype=object)"
      ]
     },
     "execution_count": 12,
     "metadata": {},
     "output_type": "execute_result"
    }
   ],
   "source": [
    "brand= df['brand'].values\n",
    "brand[0:5]"
   ]
  },
  {
   "cell_type": "code",
   "execution_count": 13,
   "id": "462d9aa9",
   "metadata": {},
   "outputs": [
    {
     "data": {
      "text/plain": [
       "array(['Notebook 14-df0008nx', 'IdeaPad 330S-14IKB', 'MateBook D Volta',\n",
       "       'Inspiron 15 3567', 'VivoBook 15 X510UR'], dtype=object)"
      ]
     },
     "execution_count": 13,
     "metadata": {},
     "output_type": "execute_result"
    }
   ],
   "source": [
    "\n",
    "\n",
    "laptop_name= df['laptop_name'].values\n",
    "laptop_name[0:5]\n",
    "\n"
   ]
  },
  {
   "cell_type": "code",
   "execution_count": 14,
   "id": "4f1f59fb",
   "metadata": {},
   "outputs": [
    {
     "data": {
      "text/plain": [
       "array([' Intel Celeron N4000', ' Intel Core i5-8250U',\n",
       "       ' Intel Core i5-8250U', ' Intel Core i3-7020U',\n",
       "       ' Intel Core i7-8550U'], dtype=object)"
      ]
     },
     "execution_count": 14,
     "metadata": {},
     "output_type": "execute_result"
    }
   ],
   "source": [
    "\n",
    "\n",
    "processor_type = df['processor_type'].values\n",
    "processor_type[0:5]\n",
    "\n"
   ]
  },
  {
   "cell_type": "code",
   "execution_count": 15,
   "id": "fec90d49",
   "metadata": {},
   "outputs": [
    {
     "name": "stdout",
     "output_type": "stream",
     "text": [
      "Wall time: 7.99 ms\n"
     ]
    },
    {
     "data": {
      "text/plain": [
       "<204x163 sparse matrix of type '<class 'numpy.float64'>'\n",
       "\twith 578 stored elements in Compressed Sparse Row format>"
      ]
     },
     "execution_count": 15,
     "metadata": {},
     "output_type": "execute_result"
    }
   ],
   "source": [
    "\n",
    "\n",
    "%%time\n",
    "tfidfv = TfidfVectorizer()\n",
    "matrix = tfidfv.fit_transform(laptop_name)\n",
    "matrix\n",
    "\n"
   ]
  },
  {
   "cell_type": "code",
   "execution_count": 16,
   "id": "bca19810",
   "metadata": {},
   "outputs": [],
   "source": [
    "# класс для формирования рекомендаций на основе метода ближайших соседей\n",
    "class SimpleKNNRecommender:\n",
    "    \n",
    "    def __init__(self, X_matrix, X_brand, X_laptop_name, X_processor_type):\n",
    "        \"\"\"\n",
    "        Входные параметры:\n",
    "        X_matrix - обучающая выборка (матрица объект-признак)\n",
    "        \"\"\"\n",
    "        #Сохраняем параметры в переменных объекта\n",
    "        self._X_matrix = X_matrix\n",
    "        self.df = pd.DataFrame(\n",
    "            {'brand': pd.Series(X_brand, dtype='str'),\n",
    "            'laptop_name': pd.Series(X_laptop_name, dtype='str'),\n",
    "            'processor_type': pd.Series(X_processor_type, dtype='str'),\n",
    "            'dist': pd.Series([], dtype='float')})\n",
    "            \n",
    "            \n",
    "    def recommend_for_single_object(self, K: int, \\\n",
    "                X_matrix_object, cos_flag = True, manh_flag = False):\n",
    "        \"\"\"\n",
    "        Метод формирования рекомендаций для одного объекта.\n",
    "        Входные параметры:\n",
    "        K - количество рекомендуемых соседей \n",
    "        X_matrix_object - строка матрицы объект-признак, соответствующая объекту\n",
    "        cos_flag - флаг вычисления косинусного расстояния\n",
    "        manh_flag - флаг вычисления манхэттэнского расстояния\n",
    "        Возвращаемое значение: K найденных соседей\n",
    "        \"\"\"\n",
    "        \n",
    "        scale = 1000000\n",
    "        # Вычисляем косинусную близость\n",
    "        if cos_flag:\n",
    "            dist = cosine_similarity(self._X_matrix, X_matrix_object)\n",
    "            self.df['dist'] = dist * scale\n",
    "            res = self.df.sort_values(by='dist', ascending=False)\n",
    "            # Не учитываем рекомендации с единичным расстоянием,\n",
    "            # так как это искомый объект\n",
    "            res = res[res['dist'] < scale]\n",
    "        \n",
    "        else:\n",
    "            if manh_flag:\n",
    "                dist = manhattan_distances(self._X_matrix, X_matrix_object)\n",
    "            else:\n",
    "                dist = euclidean_distances(self._X_matrix, X_matrix_object)\n",
    "            self.df['dist'] = dist * scale\n",
    "            res = self.df.sort_values(by='dist', ascending=True)\n",
    "            # Не учитываем рекомендации с единичным расстоянием,\n",
    "            # так как это искомый объект\n",
    "            res = res[res['dist'] > 0.0]            \n",
    "        \n",
    "        # Оставляем К первых рекомендаций\n",
    "        res = res.head(K)\n",
    "        return res"
   ]
  },
  {
   "cell_type": "code",
   "execution_count": 17,
   "id": "5af5b824",
   "metadata": {},
   "outputs": [
    {
     "data": {
      "text/plain": [
       "'Notebook 14-df0008nx'"
      ]
     },
     "execution_count": 17,
     "metadata": {},
     "output_type": "execute_result"
    }
   ],
   "source": [
    "laptop_name[0]"
   ]
  },
  {
   "cell_type": "code",
   "execution_count": 18,
   "id": "ce56df10",
   "metadata": {},
   "outputs": [
    {
     "data": {
      "text/plain": [
       "<1x163 sparse matrix of type '<class 'numpy.float64'>'\n",
       "\twith 3 stored elements in Compressed Sparse Row format>"
      ]
     },
     "execution_count": 18,
     "metadata": {},
     "output_type": "execute_result"
    }
   ],
   "source": [
    "mc_matrix = matrix[0]\n",
    "mc_matrix"
   ]
  },
  {
   "cell_type": "code",
   "execution_count": 19,
   "id": "a4258b30",
   "metadata": {},
   "outputs": [],
   "source": [
    "skr1 = SimpleKNNRecommender(matrix, brand, laptop_name, processor_type)"
   ]
  },
  {
   "cell_type": "code",
   "execution_count": 20,
   "id": "4cf32bcd",
   "metadata": {},
   "outputs": [
    {
     "data": {
      "text/html": [
       "<div>\n",
       "<style scoped>\n",
       "    .dataframe tbody tr th:only-of-type {\n",
       "        vertical-align: middle;\n",
       "    }\n",
       "\n",
       "    .dataframe tbody tr th {\n",
       "        vertical-align: top;\n",
       "    }\n",
       "\n",
       "    .dataframe thead th {\n",
       "        text-align: right;\n",
       "    }\n",
       "</style>\n",
       "<table border=\"1\" class=\"dataframe\">\n",
       "  <thead>\n",
       "    <tr style=\"text-align: right;\">\n",
       "      <th></th>\n",
       "      <th>brand</th>\n",
       "      <th>laptop_name</th>\n",
       "      <th>processor_type</th>\n",
       "      <th>dist</th>\n",
       "    </tr>\n",
       "  </thead>\n",
       "  <tbody>\n",
       "    <tr>\n",
       "      <th>65</th>\n",
       "      <td>HP</td>\n",
       "      <td>14-cf1001nx</td>\n",
       "      <td>Intel Core i5-8265U</td>\n",
       "      <td>196183.401727</td>\n",
       "    </tr>\n",
       "    <tr>\n",
       "      <th>163</th>\n",
       "      <td>HP</td>\n",
       "      <td>14-bp101nx</td>\n",
       "      <td>Intel Core i5-8250U</td>\n",
       "      <td>196183.401727</td>\n",
       "    </tr>\n",
       "    <tr>\n",
       "      <th>165</th>\n",
       "      <td>HP</td>\n",
       "      <td>14-ck0008nx</td>\n",
       "      <td>Intel Celeron N4000</td>\n",
       "      <td>196183.401727</td>\n",
       "    </tr>\n",
       "    <tr>\n",
       "      <th>9</th>\n",
       "      <td>HP</td>\n",
       "      <td>14-cf0007nx</td>\n",
       "      <td>Intel Core i5-8250U</td>\n",
       "      <td>196183.401727</td>\n",
       "    </tr>\n",
       "    <tr>\n",
       "      <th>130</th>\n",
       "      <td>Dell</td>\n",
       "      <td>Inspiron 14 5480</td>\n",
       "      <td>Intel Core i7-8565U</td>\n",
       "      <td>174852.637832</td>\n",
       "    </tr>\n",
       "  </tbody>\n",
       "</table>\n",
       "</div>"
      ],
      "text/plain": [
       "    brand       laptop_name        processor_type           dist\n",
       "65     HP       14-cf1001nx   Intel Core i5-8265U  196183.401727\n",
       "163    HP        14-bp101nx   Intel Core i5-8250U  196183.401727\n",
       "165    HP       14-ck0008nx   Intel Celeron N4000  196183.401727\n",
       "9      HP       14-cf0007nx   Intel Core i5-8250U  196183.401727\n",
       "130  Dell  Inspiron 14 5480   Intel Core i7-8565U  174852.637832"
      ]
     },
     "execution_count": 20,
     "metadata": {},
     "output_type": "execute_result"
    }
   ],
   "source": [
    "\n",
    "\n",
    "# 5 моделей похожих на Notebook 14-df0008nx\n",
    "rec1 = skr1.recommend_for_single_object(5, mc_matrix)\n",
    "rec1\n",
    "\n"
   ]
  },
  {
   "cell_type": "code",
   "execution_count": 21,
   "id": "4d99d4da",
   "metadata": {},
   "outputs": [
    {
     "data": {
      "text/html": [
       "<div>\n",
       "<style scoped>\n",
       "    .dataframe tbody tr th:only-of-type {\n",
       "        vertical-align: middle;\n",
       "    }\n",
       "\n",
       "    .dataframe tbody tr th {\n",
       "        vertical-align: top;\n",
       "    }\n",
       "\n",
       "    .dataframe thead th {\n",
       "        text-align: right;\n",
       "    }\n",
       "</style>\n",
       "<table border=\"1\" class=\"dataframe\">\n",
       "  <thead>\n",
       "    <tr style=\"text-align: right;\">\n",
       "      <th></th>\n",
       "      <th>brand</th>\n",
       "      <th>laptop_name</th>\n",
       "      <th>processor_type</th>\n",
       "      <th>dist</th>\n",
       "    </tr>\n",
       "  </thead>\n",
       "  <tbody>\n",
       "    <tr>\n",
       "      <th>165</th>\n",
       "      <td>HP</td>\n",
       "      <td>14-ck0008nx</td>\n",
       "      <td>Intel Celeron N4000</td>\n",
       "      <td>1.267925e+06</td>\n",
       "    </tr>\n",
       "    <tr>\n",
       "      <th>163</th>\n",
       "      <td>HP</td>\n",
       "      <td>14-bp101nx</td>\n",
       "      <td>Intel Core i5-8250U</td>\n",
       "      <td>1.267925e+06</td>\n",
       "    </tr>\n",
       "    <tr>\n",
       "      <th>9</th>\n",
       "      <td>HP</td>\n",
       "      <td>14-cf0007nx</td>\n",
       "      <td>Intel Core i5-8250U</td>\n",
       "      <td>1.267925e+06</td>\n",
       "    </tr>\n",
       "    <tr>\n",
       "      <th>65</th>\n",
       "      <td>HP</td>\n",
       "      <td>14-cf1001nx</td>\n",
       "      <td>Intel Core i5-8265U</td>\n",
       "      <td>1.267925e+06</td>\n",
       "    </tr>\n",
       "    <tr>\n",
       "      <th>130</th>\n",
       "      <td>Dell</td>\n",
       "      <td>Inspiron 14 5480</td>\n",
       "      <td>Intel Core i7-8565U</td>\n",
       "      <td>1.284638e+06</td>\n",
       "    </tr>\n",
       "  </tbody>\n",
       "</table>\n",
       "</div>"
      ],
      "text/plain": [
       "    brand       laptop_name        processor_type          dist\n",
       "165    HP       14-ck0008nx   Intel Celeron N4000  1.267925e+06\n",
       "163    HP        14-bp101nx   Intel Core i5-8250U  1.267925e+06\n",
       "9      HP       14-cf0007nx   Intel Core i5-8250U  1.267925e+06\n",
       "65     HP       14-cf1001nx   Intel Core i5-8265U  1.267925e+06\n",
       "130  Dell  Inspiron 14 5480   Intel Core i7-8565U  1.284638e+06"
      ]
     },
     "execution_count": 21,
     "metadata": {},
     "output_type": "execute_result"
    }
   ],
   "source": [
    "# При поиске с помощью Евклидова расстояния \n",
    "rec2 = skr1.recommend_for_single_object(5, mc_matrix, cos_flag = False)\n",
    "rec2"
   ]
  },
  {
   "cell_type": "code",
   "execution_count": 22,
   "id": "60a5e97c",
   "metadata": {},
   "outputs": [
    {
     "data": {
      "text/html": [
       "<div>\n",
       "<style scoped>\n",
       "    .dataframe tbody tr th:only-of-type {\n",
       "        vertical-align: middle;\n",
       "    }\n",
       "\n",
       "    .dataframe tbody tr th {\n",
       "        vertical-align: top;\n",
       "    }\n",
       "\n",
       "    .dataframe thead th {\n",
       "        text-align: right;\n",
       "    }\n",
       "</style>\n",
       "<table border=\"1\" class=\"dataframe\">\n",
       "  <thead>\n",
       "    <tr style=\"text-align: right;\">\n",
       "      <th></th>\n",
       "      <th>brand</th>\n",
       "      <th>laptop_name</th>\n",
       "      <th>processor_type</th>\n",
       "      <th>dist</th>\n",
       "    </tr>\n",
       "  </thead>\n",
       "  <tbody>\n",
       "    <tr>\n",
       "      <th>65</th>\n",
       "      <td>HP</td>\n",
       "      <td>14-cf1001nx</td>\n",
       "      <td>Intel Core i5-8265U</td>\n",
       "      <td>2.288947e+06</td>\n",
       "    </tr>\n",
       "    <tr>\n",
       "      <th>9</th>\n",
       "      <td>HP</td>\n",
       "      <td>14-cf0007nx</td>\n",
       "      <td>Intel Core i5-8250U</td>\n",
       "      <td>2.288947e+06</td>\n",
       "    </tr>\n",
       "    <tr>\n",
       "      <th>163</th>\n",
       "      <td>HP</td>\n",
       "      <td>14-bp101nx</td>\n",
       "      <td>Intel Core i5-8250U</td>\n",
       "      <td>2.288947e+06</td>\n",
       "    </tr>\n",
       "    <tr>\n",
       "      <th>165</th>\n",
       "      <td>HP</td>\n",
       "      <td>14-ck0008nx</td>\n",
       "      <td>Intel Celeron N4000</td>\n",
       "      <td>2.288947e+06</td>\n",
       "    </tr>\n",
       "    <tr>\n",
       "      <th>130</th>\n",
       "      <td>Dell</td>\n",
       "      <td>Inspiron 14 5480</td>\n",
       "      <td>Intel Core i7-8565U</td>\n",
       "      <td>2.593494e+06</td>\n",
       "    </tr>\n",
       "  </tbody>\n",
       "</table>\n",
       "</div>"
      ],
      "text/plain": [
       "    brand       laptop_name        processor_type          dist\n",
       "65     HP       14-cf1001nx   Intel Core i5-8265U  2.288947e+06\n",
       "9      HP       14-cf0007nx   Intel Core i5-8250U  2.288947e+06\n",
       "163    HP        14-bp101nx   Intel Core i5-8250U  2.288947e+06\n",
       "165    HP       14-ck0008nx   Intel Celeron N4000  2.288947e+06\n",
       "130  Dell  Inspiron 14 5480   Intel Core i7-8565U  2.593494e+06"
      ]
     },
     "execution_count": 22,
     "metadata": {},
     "output_type": "execute_result"
    }
   ],
   "source": [
    "# Манхэттэнское расстояние\n",
    "rec3 = skr1.recommend_for_single_object(5, mc_matrix, \n",
    "                                        cos_flag = False, manh_flag = True)\n",
    "rec3"
   ]
  },
  {
   "cell_type": "code",
   "execution_count": null,
   "id": "98a0bfa8",
   "metadata": {},
   "outputs": [],
   "source": []
  }
 ],
 "metadata": {
  "kernelspec": {
   "display_name": "Python 3",
   "language": "python",
   "name": "python3"
  },
  "language_info": {
   "codemirror_mode": {
    "name": "ipython",
    "version": 3
   },
   "file_extension": ".py",
   "mimetype": "text/x-python",
   "name": "python",
   "nbconvert_exporter": "python",
   "pygments_lexer": "ipython3",
   "version": "3.8.10"
  }
 },
 "nbformat": 4,
 "nbformat_minor": 5
}
